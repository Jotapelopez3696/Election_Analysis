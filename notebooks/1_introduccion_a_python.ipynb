{
  "cells": [
    {
      "cell_type": "markdown",
      "id": "f01ba61e",
      "metadata": {
        "id": "f01ba61e"
      },
      "source": [
        "[![Abrir en Colab](https://colab.research.google.com/assets/colab-badge.svg)](https://colab.research.google.com/github/m-durand/propedeutico_python/blob/main/notebooks/1_introduccion_a_python.ipynb)"
      ]
    },
    {
      "cell_type": "markdown",
      "id": "7185181c",
      "metadata": {
        "id": "7185181c"
      },
      "source": [
        "# Propedéutico a programación con Python.\n",
        "\n",
        "**Verano 2024, por el Centro de Ciencia de Datos, EGobiernoyTP.**"
      ]
    },
    {
      "cell_type": "markdown",
      "id": "d4718f42",
      "metadata": {
        "id": "d4718f42"
      },
      "source": [
        "En este curso, aprenderemos los comandos básicos de Python que nos permitirán hacer análisis de datos, especialmente para datos más o menos grandes.\n",
        "\n",
        "### Sesión 1: Introducción a Python\n",
        "\n",
        "1.  ¿Qué es y cómo funciona Python?\n",
        "2.  ¿Qué es un notebook?\n",
        "3.  Variables\n",
        "4.  Operadores\n",
        "    - Tipos de operadores\n",
        "5.  Comentarios\n",
        "    - Comentario de una sola línea\n",
        "    - Comentario multilinea\n",
        "6.  Tipo de datos\n",
        "    - Boolean\n",
        "    - Númericos\n",
        "    - Strings\n",
        "    - Formatting\n",
        "7. Tipos de estructuras de datos\n",
        "    - Listas\n",
        "    - Tuplas\n",
        "    - Sets\n",
        "    - Diccionarios"
      ]
    },
    {
      "cell_type": "markdown",
      "id": "8941292b",
      "metadata": {
        "id": "8941292b"
      },
      "source": [
        "## 1. ¿Qué es y cómo funciona Python?\n",
        "\n",
        "Python es un lenguaje de programación muy versátil, que se utiliza para una gran variedad de tareas que van desde el análisis de datos hasta el desarrollo de páginas web y software. Para nosotros, será una gran herramienta para trabajar con datos, desde limpiarlos o visualizar relaciones interesantes, hasta crear modelos avanzados e incluso llevarlos a la implementación.\n",
        "\n",
        "Python es de código abierto, lo cual significa que se encuentra en constante desarrollo por una comunidad enorme de científicos y voluntarios. Además, significa que es relativamente fácil encontrar respuestas a dudas o documentación de cualquier función en internet."
      ]
    },
    {
      "cell_type": "markdown",
      "id": "e44d6978",
      "metadata": {
        "id": "e44d6978"
      },
      "source": [
        "## 2. ¿Qué es un notebook?\n",
        "\n",
        "Los notebooks son un tipo de archivo que nos permite ejecutar código de Python (principalmente). Están compuestos de celdas. En términos generales, existen dos tipos de celdas: las de texto (como esta, en la que nos encontramos) y las de código (como la siguiente). En los notebooks, las celdas de texto nos ayudan a mantener una historia, explicar e interpretar las tablas y gráficas que resulten del análisis, y en general mantener una estructura amigable para compartir nuestro trabajo con otras personas.\n",
        "\n",
        "Existe otro tipo de archivos comúnmente utilizado para código de python: aquellos terminados en `.py`, que solamente contienen código ejecutable. Este formato es el más amigable para la computadora, que no necesita las interpretaciones sino solamente las instrucciones.\n",
        "\n",
        "Algunos de ustedes podrían ejecutar Python en sus computadoras; sin embargo, para asegurar que mientras aprenden los básicos de programación nadie se encuentra con _bugs_ inesperados, incompatibilidades de software, etc., para este curso, utilizaremos [**Google Colab**](https://colab.research.google.com/).\n",
        "\n",
        "Google Colab es una plataforma que permite correr Python en servidores de Google. Para poder trabajar sobre ellos, es decir, \"correr el código\", es necesario presionar el botón \"Open in Colab\" que se encuentra al principio de cada uno. Esto abrirá una nueva ventana con una copia del notebook que es solamente para ustedes, que podrán editar con su propio trabajo. Para poder guardarla, deben hacerlo de manera explícita en Google Drive: por medio del menú Archivo->Guardar una copia en Drive."
      ]
    },
    {
      "cell_type": "code",
      "execution_count": null,
      "id": "24ae0cf8",
      "metadata": {
        "id": "24ae0cf8"
      },
      "outputs": [],
      "source": [
        "print(\"¡Hola, mundo!\")"
      ]
    },
    {
      "cell_type": "markdown",
      "id": "65e27f48",
      "metadata": {
        "id": "65e27f48"
      },
      "source": [
        "## 3. Variables\n",
        "\n",
        "En Python, una variable es guardar en memoria la asignación de un nombre a algún valor."
      ]
    },
    {
      "cell_type": "code",
      "execution_count": null,
      "id": "fa9682b3",
      "metadata": {
        "id": "fa9682b3"
      },
      "outputs": [],
      "source": [
        "a = 5"
      ]
    },
    {
      "cell_type": "code",
      "execution_count": null,
      "id": "94f2d451",
      "metadata": {
        "id": "94f2d451"
      },
      "outputs": [],
      "source": [
        "a"
      ]
    },
    {
      "cell_type": "code",
      "execution_count": null,
      "id": "a1611777",
      "metadata": {
        "id": "a1611777"
      },
      "outputs": [],
      "source": [
        "print(a)"
      ]
    },
    {
      "cell_type": "code",
      "execution_count": null,
      "id": "07f6c1e5",
      "metadata": {
        "id": "07f6c1e5"
      },
      "outputs": [],
      "source": [
        "b = 10"
      ]
    },
    {
      "cell_type": "code",
      "execution_count": null,
      "id": "49d2f582",
      "metadata": {
        "id": "49d2f582"
      },
      "outputs": [],
      "source": [
        "b"
      ]
    },
    {
      "cell_type": "code",
      "execution_count": null,
      "id": "ee46757c",
      "metadata": {
        "id": "ee46757c"
      },
      "outputs": [],
      "source": [
        "c = 'Hola'"
      ]
    },
    {
      "cell_type": "code",
      "execution_count": null,
      "id": "c6ff12f4",
      "metadata": {
        "id": "c6ff12f4"
      },
      "outputs": [],
      "source": [
        "c"
      ]
    },
    {
      "cell_type": "code",
      "execution_count": null,
      "id": "c1c9d572",
      "metadata": {
        "id": "c1c9d572"
      },
      "outputs": [],
      "source": [
        "d = c"
      ]
    },
    {
      "cell_type": "code",
      "execution_count": null,
      "id": "962b015d",
      "metadata": {
        "id": "962b015d"
      },
      "outputs": [],
      "source": [
        "d"
      ]
    },
    {
      "cell_type": "markdown",
      "id": "cba0e5c0",
      "metadata": {
        "id": "cba0e5c0"
      },
      "source": [
        "##### Ejercicio 1:\n",
        "\n",
        "Declara tres diferentes variables que tengan los valores de 29, 17 y 30, para los nombres `x`, `y` y `z`, respectivamente."
      ]
    },
    {
      "cell_type": "code",
      "execution_count": null,
      "id": "86e811b0",
      "metadata": {
        "id": "86e811b0"
      },
      "outputs": [],
      "source": [
        "# Respuesta"
      ]
    },
    {
      "cell_type": "markdown",
      "id": "4f29582c",
      "metadata": {
        "id": "4f29582c"
      },
      "source": [
        "## 4. Operadores\n",
        "\n",
        "Los operadores son un conjunto de símbolos que se utilizan para definir una tarea computacional entre variables\n",
        "\n",
        "### 4.1 Operaciones aritméticas"
      ]
    },
    {
      "cell_type": "code",
      "execution_count": null,
      "id": "1e9ee131",
      "metadata": {
        "id": "1e9ee131"
      },
      "outputs": [],
      "source": [
        "# Suma\n",
        "a + b"
      ]
    },
    {
      "cell_type": "code",
      "execution_count": null,
      "id": "190104b0",
      "metadata": {
        "id": "190104b0"
      },
      "outputs": [],
      "source": [
        "# Resta\n",
        "b - a"
      ]
    },
    {
      "cell_type": "code",
      "execution_count": null,
      "id": "47a1e95e",
      "metadata": {
        "id": "47a1e95e"
      },
      "outputs": [],
      "source": [
        "# Multiplicación\n",
        "a * b"
      ]
    },
    {
      "cell_type": "code",
      "execution_count": null,
      "id": "91f35e1d",
      "metadata": {
        "id": "91f35e1d"
      },
      "outputs": [],
      "source": [
        "# División\n",
        "b / a"
      ]
    },
    {
      "cell_type": "code",
      "execution_count": null,
      "id": "05c36182",
      "metadata": {
        "id": "05c36182"
      },
      "outputs": [],
      "source": [
        "# Exponente\n",
        "a**b"
      ]
    },
    {
      "cell_type": "code",
      "execution_count": null,
      "id": "5ff5587c",
      "metadata": {
        "id": "5ff5587c"
      },
      "outputs": [],
      "source": [
        "# Módulo\n",
        "a%b"
      ]
    },
    {
      "cell_type": "markdown",
      "id": "9c63ed86",
      "metadata": {
        "id": "9c63ed86"
      },
      "source": [
        "##### Ejercicio 2:\n",
        "\n",
        "Con las variables que declaraste en el ejercicio 1, realiza las operaciones necesarias para obtener 493, 1.76 y 59."
      ]
    },
    {
      "cell_type": "code",
      "execution_count": null,
      "id": "6c7824bd",
      "metadata": {
        "id": "6c7824bd"
      },
      "outputs": [],
      "source": [
        "# Respuesta"
      ]
    },
    {
      "cell_type": "markdown",
      "id": "7e6f9efc",
      "metadata": {
        "id": "7e6f9efc"
      },
      "source": [
        "### 4.2 Operadores de asignación"
      ]
    },
    {
      "cell_type": "code",
      "execution_count": null,
      "id": "d1d6d3ff",
      "metadata": {
        "id": "d1d6d3ff"
      },
      "outputs": [],
      "source": [
        "# Asignación del valor derecho a la expresión en el operando izquierdo (asignacion de variables)\n",
        "d = 2"
      ]
    },
    {
      "cell_type": "code",
      "execution_count": null,
      "id": "542b8a67",
      "metadata": {
        "id": "542b8a67"
      },
      "outputs": [],
      "source": [
        "d"
      ]
    },
    {
      "cell_type": "code",
      "execution_count": null,
      "id": "2f07bb90",
      "metadata": {
        "id": "2f07bb90"
      },
      "outputs": [],
      "source": [
        "# Agrega y asigna operando izquierdo\n",
        "d += a"
      ]
    },
    {
      "cell_type": "code",
      "execution_count": null,
      "id": "86206ec1",
      "metadata": {
        "id": "86206ec1"
      },
      "outputs": [],
      "source": [
        "d"
      ]
    },
    {
      "cell_type": "code",
      "execution_count": null,
      "id": "438aa2fd",
      "metadata": {
        "id": "438aa2fd"
      },
      "outputs": [],
      "source": [
        "a"
      ]
    },
    {
      "cell_type": "code",
      "execution_count": null,
      "id": "f3033a90",
      "metadata": {
        "id": "f3033a90"
      },
      "outputs": [],
      "source": [
        "# Substrae y asigna operando izquierdo\n",
        "d -= a"
      ]
    },
    {
      "cell_type": "code",
      "execution_count": null,
      "id": "179c18f2",
      "metadata": {
        "id": "179c18f2"
      },
      "outputs": [],
      "source": [
        "d"
      ]
    },
    {
      "cell_type": "markdown",
      "id": "2c289991",
      "metadata": {
        "id": "2c289991"
      },
      "source": [
        "##### Ejercicio 3\n",
        "\n",
        "Asigna y agrega una variable `w` que de como resultado 33, utilizando `z`."
      ]
    },
    {
      "cell_type": "code",
      "execution_count": null,
      "id": "66a40d41",
      "metadata": {
        "id": "66a40d41"
      },
      "outputs": [],
      "source": [
        "# Respuesta"
      ]
    },
    {
      "cell_type": "markdown",
      "id": "640b784e",
      "metadata": {
        "id": "640b784e"
      },
      "source": [
        "### 4.3 Operadores de comparación"
      ]
    },
    {
      "cell_type": "code",
      "execution_count": null,
      "id": "bc0587d9",
      "metadata": {
        "id": "bc0587d9"
      },
      "outputs": [],
      "source": [
        "1 <= 2"
      ]
    },
    {
      "cell_type": "code",
      "execution_count": null,
      "id": "d96dc5d0",
      "metadata": {
        "id": "d96dc5d0"
      },
      "outputs": [],
      "source": [
        "1 < 2"
      ]
    },
    {
      "cell_type": "code",
      "execution_count": null,
      "id": "f7a0b559",
      "metadata": {
        "id": "f7a0b559"
      },
      "outputs": [],
      "source": [
        "1 >= 2"
      ]
    },
    {
      "cell_type": "code",
      "execution_count": null,
      "id": "c7333dee",
      "metadata": {
        "id": "c7333dee"
      },
      "outputs": [],
      "source": [
        "1 > 2"
      ]
    },
    {
      "cell_type": "code",
      "execution_count": null,
      "id": "d956f00e",
      "metadata": {
        "id": "d956f00e"
      },
      "outputs": [],
      "source": [
        "1 != 1"
      ]
    },
    {
      "cell_type": "code",
      "execution_count": null,
      "id": "7c60c9bf",
      "metadata": {
        "id": "7c60c9bf"
      },
      "outputs": [],
      "source": [
        "1 != 2"
      ]
    },
    {
      "cell_type": "code",
      "execution_count": null,
      "id": "e6aeb833",
      "metadata": {
        "id": "e6aeb833"
      },
      "outputs": [],
      "source": [
        "1 == 1"
      ]
    },
    {
      "cell_type": "markdown",
      "id": "588eaeb8",
      "metadata": {
        "id": "588eaeb8"
      },
      "source": [
        "### 4.4 Otros operadores:"
      ]
    },
    {
      "cell_type": "code",
      "execution_count": null,
      "id": "e97ede75",
      "metadata": {
        "id": "e97ede75"
      },
      "outputs": [],
      "source": [
        "# Identity operators: Para comparar objetos en memoria.\n",
        "x = 6; y = 4\n",
        "print(x is y)\n",
        "print(x is not y)"
      ]
    },
    {
      "cell_type": "code",
      "execution_count": null,
      "id": "0daa6ad1",
      "metadata": {
        "id": "0daa6ad1"
      },
      "outputs": [],
      "source": [
        "print(\n",
        "    '''\n",
        "    Logical operators\n",
        "    -----------------\n",
        "    - and\n",
        "    - or\n",
        "    - not\n",
        "\n",
        "    '''\n",
        ")"
      ]
    },
    {
      "cell_type": "code",
      "execution_count": null,
      "id": "73786677",
      "metadata": {
        "id": "73786677"
      },
      "outputs": [],
      "source": [
        "print(\n",
        "    '''\n",
        "    Membership operators\n",
        "    ----------\n",
        "    - in\n",
        "    - not in\n",
        "    '''\n",
        ")"
      ]
    },
    {
      "cell_type": "markdown",
      "id": "b84be3e6",
      "metadata": {
        "id": "b84be3e6"
      },
      "source": [
        "## 5. Comentarios\n",
        "\n",
        "Comentarios son parte del código que se ignora a la hora de compilar. Se usa principalmente para explicar el código."
      ]
    },
    {
      "cell_type": "code",
      "execution_count": null,
      "id": "f213def0",
      "metadata": {
        "id": "f213def0"
      },
      "outputs": [],
      "source": [
        "# Esto es un comentario de una línea"
      ]
    },
    {
      "cell_type": "code",
      "execution_count": null,
      "id": "5f368d20",
      "metadata": {
        "id": "5f368d20"
      },
      "outputs": [],
      "source": [
        "## Comentario de otra línea también"
      ]
    },
    {
      "cell_type": "code",
      "execution_count": null,
      "id": "e13f08ce",
      "metadata": {
        "id": "e13f08ce"
      },
      "outputs": [],
      "source": [
        "'''Comentario de una línea'''"
      ]
    },
    {
      "cell_type": "code",
      "execution_count": null,
      "id": "7c368a18",
      "metadata": {
        "id": "7c368a18"
      },
      "outputs": [],
      "source": [
        "# Comentario\n",
        "## de\n",
        "### múltiples\n",
        "#### líneas"
      ]
    },
    {
      "cell_type": "code",
      "execution_count": null,
      "id": "b04daa02",
      "metadata": {
        "id": "b04daa02"
      },
      "outputs": [],
      "source": [
        "'''\n",
        "Comentario\n",
        "de\n",
        "múltiples\n",
        "líneas\n",
        "'''"
      ]
    },
    {
      "cell_type": "markdown",
      "id": "8b847994",
      "metadata": {
        "id": "8b847994"
      },
      "source": [
        "## 6. Tipos de dato\n",
        "\n",
        "Esto explica el tipo de valor que tiene una variable.\n",
        "\n",
        "Son básicamente 6:\n",
        "\n",
        "1. Boolean:\n",
        "    - True or False\n",
        "2. Númericos:\n",
        "    - Int, float, complex\n",
        "3. String\n",
        "4. Formatting"
      ]
    },
    {
      "cell_type": "markdown",
      "id": "783447ba",
      "metadata": {
        "id": "783447ba"
      },
      "source": [
        "### 6.1 Boolean:\n",
        "\n",
        "Los resultados son Verdadero o Falso, ya lo vimos estos con los operadores de comparación.\n",
        "\n",
        "Para revisar el tipo de dato, usa `type()`."
      ]
    },
    {
      "cell_type": "code",
      "execution_count": null,
      "id": "34a0e82c",
      "metadata": {
        "id": "34a0e82c"
      },
      "outputs": [],
      "source": [
        "booleano = 6 > 7\n",
        "\n",
        "booleano"
      ]
    },
    {
      "cell_type": "code",
      "execution_count": null,
      "id": "82d477eb",
      "metadata": {
        "id": "82d477eb"
      },
      "outputs": [],
      "source": [
        "type(booleano)"
      ]
    },
    {
      "cell_type": "markdown",
      "id": "bb285ae8",
      "metadata": {
        "id": "bb285ae8"
      },
      "source": [
        "### 6.2 Números\n",
        "\n",
        "Enteros, flotantes y números complejos."
      ]
    },
    {
      "cell_type": "code",
      "execution_count": null,
      "id": "93bb6ab3",
      "metadata": {
        "id": "93bb6ab3"
      },
      "outputs": [],
      "source": [
        "a = 10\n",
        "print('Tipo de dato a:', type(a), '; valor:',a)\n",
        "\n",
        "b = 4.5\n",
        "print('Tipo de dato b:', type(b), '; valor:',b)\n",
        "\n",
        "c = 1+6j\n",
        "print('Tipo de dato b:', type(c), '; valor:',c)"
      ]
    },
    {
      "cell_type": "markdown",
      "id": "5f2c3c4a",
      "metadata": {
        "id": "5f2c3c4a"
      },
      "source": [
        "###  6.3 Strings\n",
        "\n",
        "Secuencia de caracteres, se coloca entre `\"\"` o `''`."
      ]
    },
    {
      "cell_type": "code",
      "execution_count": null,
      "id": "ef3bc71f",
      "metadata": {
        "id": "ef3bc71f"
      },
      "outputs": [],
      "source": [
        "a = 'Hola'"
      ]
    },
    {
      "cell_type": "code",
      "execution_count": null,
      "id": "eedb8341",
      "metadata": {
        "id": "eedb8341"
      },
      "outputs": [],
      "source": [
        "type(a)"
      ]
    },
    {
      "cell_type": "markdown",
      "id": "c93475f1",
      "metadata": {
        "id": "c93475f1"
      },
      "source": [
        "### 6.4 Formatting\n",
        "\n",
        "Para unir strings con el valores numéricos, **string interpolation**."
      ]
    },
    {
      "cell_type": "code",
      "execution_count": null,
      "id": "e752b882",
      "metadata": {
        "id": "e752b882"
      },
      "outputs": [],
      "source": [
        "planeta = 'Jupiter'\n",
        "lunas = 79\n",
        "\n",
        "mensaje = 'El planeta {}, tiene {} lunas'.format(planeta, lunas)\n",
        "\n",
        "print(mensaje)"
      ]
    },
    {
      "cell_type": "markdown",
      "id": "86671043",
      "metadata": {
        "id": "86671043"
      },
      "source": [
        "##### Ejercicio 4\n",
        "\n",
        "Escribe dos mensajes diferentes:\n",
        "- Que diga tu nombre y tu edad.\n",
        "- Que diga el número de vaquitas marinas que existen en el mundo y donde viven."
      ]
    },
    {
      "cell_type": "code",
      "execution_count": null,
      "id": "fd00cbe6",
      "metadata": {
        "id": "fd00cbe6"
      },
      "outputs": [],
      "source": [
        "# Respuesta"
      ]
    },
    {
      "cell_type": "markdown",
      "id": "983795b8",
      "metadata": {
        "id": "983795b8"
      },
      "source": [
        "## 7. Tipo de estructura de datos\n",
        "\n",
        "1. Listas\n",
        "2. Tuplas\n",
        "3. Conjunto (set)\n",
        "4. Diccionario\n",
        "    - keys and values"
      ]
    },
    {
      "cell_type": "markdown",
      "id": "ef73eedb",
      "metadata": {
        "id": "ef73eedb"
      },
      "source": [
        "### 7.1 Listas\n",
        "\n",
        "Las listas son una secuencia de elementos ordenados. No es necesario que sean del mismo tipo; es decir, puede mezclar númericos, booleanos, texto, etc. Se definen con el uso de `[ ]`."
      ]
    },
    {
      "cell_type": "code",
      "execution_count": null,
      "id": "6fd3dda6",
      "metadata": {
        "id": "6fd3dda6"
      },
      "outputs": [],
      "source": [
        "mi_lista = [98, 'David', 8.6, 100]"
      ]
    },
    {
      "cell_type": "code",
      "execution_count": null,
      "id": "bbbef8a1",
      "metadata": {
        "id": "bbbef8a1"
      },
      "outputs": [],
      "source": [
        "type(mi_lista)"
      ]
    },
    {
      "cell_type": "code",
      "execution_count": null,
      "id": "8b05092e",
      "metadata": {
        "id": "8b05092e"
      },
      "outputs": [],
      "source": [
        "# para objener la posición 0 de la lista\n",
        "mi_lista[0]"
      ]
    },
    {
      "cell_type": "code",
      "execution_count": null,
      "id": "7c8acc99",
      "metadata": {
        "id": "7c8acc99"
      },
      "outputs": [],
      "source": [
        "# Posición 1\n",
        "mi_lista[1]"
      ]
    },
    {
      "cell_type": "code",
      "execution_count": null,
      "id": "8d2d8a7b",
      "metadata": {
        "id": "8d2d8a7b"
      },
      "outputs": [],
      "source": [
        "# Posición -1, va en el sentido contrario\n",
        "mi_lista[-1]"
      ]
    },
    {
      "cell_type": "code",
      "execution_count": null,
      "id": "33577384",
      "metadata": {
        "id": "33577384"
      },
      "outputs": [],
      "source": [
        "mi_lista[-3]"
      ]
    },
    {
      "cell_type": "markdown",
      "id": "7fc72e4d",
      "metadata": {
        "id": "7fc72e4d"
      },
      "source": [
        "Se dice que las listas son **mutables**, por lo que puedes modificarlas, eliminar o agregar elementos."
      ]
    },
    {
      "cell_type": "code",
      "execution_count": null,
      "id": "d14f1027",
      "metadata": {
        "id": "d14f1027"
      },
      "outputs": [],
      "source": [
        "lista_a = [1,2,3,4,5]"
      ]
    },
    {
      "cell_type": "code",
      "execution_count": null,
      "id": "5bd09645",
      "metadata": {
        "id": "5bd09645"
      },
      "outputs": [],
      "source": [
        "lista_b = [6,7,8,9,10]"
      ]
    },
    {
      "cell_type": "code",
      "execution_count": null,
      "id": "ebd2e92d",
      "metadata": {
        "id": "ebd2e92d"
      },
      "outputs": [],
      "source": [
        "# Extender lista\n",
        "lista_a.extend(lista_b)"
      ]
    },
    {
      "cell_type": "code",
      "execution_count": null,
      "id": "c028dae0",
      "metadata": {
        "id": "c028dae0"
      },
      "outputs": [],
      "source": [
        "lista_a"
      ]
    },
    {
      "cell_type": "code",
      "execution_count": null,
      "id": "673eec22",
      "metadata": {
        "id": "673eec22"
      },
      "outputs": [],
      "source": [
        "# Agregar lista\n",
        "lista_b.append(lista_a)"
      ]
    },
    {
      "cell_type": "code",
      "execution_count": null,
      "id": "1f0db09e",
      "metadata": {
        "id": "1f0db09e"
      },
      "outputs": [],
      "source": [
        "lista_b\n",
        "# observa que se agrega como un elemento la lista_a,\n",
        "# a diferencia de extend donde cada elemento se agrega de manera individual"
      ]
    },
    {
      "cell_type": "code",
      "execution_count": null,
      "id": "04a9e5bf",
      "metadata": {
        "id": "04a9e5bf"
      },
      "outputs": [],
      "source": [
        "lista_a.append(11)\n",
        "# También puedes agregar elemento por elemento con append"
      ]
    },
    {
      "cell_type": "code",
      "execution_count": null,
      "id": "750b6562",
      "metadata": {
        "id": "750b6562"
      },
      "outputs": [],
      "source": [
        "lista_a"
      ]
    },
    {
      "cell_type": "markdown",
      "id": "21732cd6",
      "metadata": {
        "id": "21732cd6"
      },
      "source": [
        "### 7.2 Tuplas\n",
        "\n",
        "Una tupla es similar a la lista en el sentido de que son valoress ordenados, pero la diferencia es que las tuplas son **inmutables**, por lo que NO puedes cambiar sus elementos.  \n",
        "\n",
        "Dependiento del contexto, las tuplas pueden ser de gran ayuda en lugar de listas. Primero, porque son más rápidas operacionalmente que las listas, y segundo porque son más seguras pues no se puede modificar una vez declarada.\n",
        "\n",
        "Éstas se definen con `( )`."
      ]
    },
    {
      "cell_type": "code",
      "execution_count": null,
      "id": "85778114",
      "metadata": {
        "id": "85778114"
      },
      "outputs": [],
      "source": [
        "mi_tupla = (99, 'Andrea', 7.6, 99)"
      ]
    },
    {
      "cell_type": "code",
      "execution_count": null,
      "id": "b20a274e",
      "metadata": {
        "id": "b20a274e"
      },
      "outputs": [],
      "source": [
        "type(mi_tupla)"
      ]
    },
    {
      "cell_type": "code",
      "execution_count": null,
      "id": "502778c5",
      "metadata": {
        "id": "502778c5"
      },
      "outputs": [],
      "source": [
        "mi_tupla"
      ]
    },
    {
      "cell_type": "code",
      "execution_count": null,
      "id": "599b4da9",
      "metadata": {
        "id": "599b4da9"
      },
      "outputs": [],
      "source": [
        "# Segundo elemento de la tupla\n",
        "mi_tupla[1]"
      ]
    },
    {
      "cell_type": "code",
      "execution_count": null,
      "id": "7fb9aa33",
      "metadata": {
        "id": "7fb9aa33"
      },
      "outputs": [],
      "source": [
        "# número de elementos en tupla\n",
        "len(mi_tupla)"
      ]
    },
    {
      "cell_type": "markdown",
      "id": "12e77f4e",
      "metadata": {
        "id": "12e77f4e"
      },
      "source": [
        "##### Ejercicio 5\n",
        "\n",
        "En la siguiente celda, intenta usar los métodos `extend` o `append` en un par de tuplas. ¿Qué pasa?"
      ]
    },
    {
      "cell_type": "code",
      "execution_count": null,
      "id": "9ac0c968",
      "metadata": {
        "id": "9ac0c968"
      },
      "outputs": [],
      "source": []
    },
    {
      "cell_type": "markdown",
      "id": "fc62d8a3",
      "metadata": {
        "id": "fc62d8a3"
      },
      "source": [
        "### 7.3 Conjunto (set)\n",
        "\n",
        "Es una secuencia de objetivos no ordenados, es menos famoso pero muy útil para diversas cosas. No tiene ningún valor repetido, a diferencia de las listas y las tuplas. En los conjuntos puedes realizar operaciones como unión, intersección. Para definir un conjunto utilizamos `{ }`"
      ]
    },
    {
      "cell_type": "code",
      "execution_count": null,
      "id": "d88d7326",
      "metadata": {
        "id": "d88d7326"
      },
      "outputs": [],
      "source": [
        "mi_set = {9,10,11,11}"
      ]
    },
    {
      "cell_type": "code",
      "execution_count": null,
      "id": "82c6719a",
      "metadata": {
        "id": "82c6719a"
      },
      "outputs": [],
      "source": [
        "mi_set"
      ]
    },
    {
      "cell_type": "code",
      "execution_count": null,
      "id": "91e72043",
      "metadata": {
        "id": "91e72043"
      },
      "outputs": [],
      "source": [
        "type(mi_set)"
      ]
    },
    {
      "cell_type": "code",
      "execution_count": null,
      "id": "4bea00c8",
      "metadata": {
        "id": "4bea00c8"
      },
      "outputs": [],
      "source": [
        "grupo1 = {\"Alicia\", \"Pedro\", \"Juan\", \"Diana\", \"Eva\"}\n",
        "grupo2 = {\"Pedro\", \"Diana\", \"Luis\", \"Ana\", \"Alejandra\"}\n",
        "grupo3 = {\"Juan\", \"Eva\", \"Luis\", \"Ana\", \"Isaac\"}"
      ]
    },
    {
      "cell_type": "markdown",
      "id": "4ad873f8",
      "metadata": {
        "id": "4ad873f8"
      },
      "source": [
        "##### Ejercicio 6\n",
        "\n",
        "En la siguiente celda, intenta obtener el primer elemento del set `grupo1`. ¿Qué pasa?"
      ]
    },
    {
      "cell_type": "code",
      "execution_count": null,
      "id": "978992b8",
      "metadata": {
        "id": "978992b8"
      },
      "outputs": [],
      "source": []
    },
    {
      "cell_type": "markdown",
      "id": "23d6854b",
      "metadata": {
        "id": "23d6854b"
      },
      "source": [
        "<img src=\"https://i.pinimg.com/originals/92/74/49/927449ed2c05f7cabe41d12d0db4c0ac.png\" alt=\"set\" width=\"400\"/>\n",
        "\n",
        "_Fuente: Analytics Vidhya_"
      ]
    },
    {
      "cell_type": "code",
      "execution_count": null,
      "id": "a634521c",
      "metadata": {
        "id": "a634521c"
      },
      "outputs": [],
      "source": [
        "# Intersección:\n",
        "miembros_comunes = grupo1.intersection(grupo2, grupo3)\n",
        "print(\"Estudiantes que están los tres grupos:\", miembros_comunes)"
      ]
    },
    {
      "cell_type": "code",
      "execution_count": null,
      "id": "2c16b0eb",
      "metadata": {
        "id": "2c16b0eb"
      },
      "outputs": [],
      "source": [
        "# Intersección:\n",
        "miembros_comunes = grupo1.intersection(grupo2)\n",
        "print(\"Estudiantes que están en grupo1 y grupo2:\", miembros_comunes)"
      ]
    },
    {
      "cell_type": "code",
      "execution_count": null,
      "id": "bfc65b26",
      "metadata": {
        "id": "bfc65b26"
      },
      "outputs": [],
      "source": [
        "# Unión:\n",
        "todos = grupo1.union(grupo2, grupo3)\n",
        "print(\"Estudiantes únicos en todos los grupos:\", todos)"
      ]
    },
    {
      "cell_type": "code",
      "execution_count": null,
      "id": "9d6d74f0",
      "metadata": {
        "id": "9d6d74f0"
      },
      "outputs": [],
      "source": [
        "# Diferencia:\n",
        "exclusivos_g1 = grupo1.difference(grupo2, grupo3)\n",
        "print(\"Estudiantes que están en el grupo1 pero no en 2 y 3:\", exclusivos_g1)"
      ]
    },
    {
      "cell_type": "markdown",
      "id": "ed2e3f1c",
      "metadata": {
        "id": "ed2e3f1c"
      },
      "source": [
        "###  6.6 Diccionario\n",
        "\n",
        "Es una colección NO ordenada de pares de valores-llaves. Los diccionarios se utilizan principalmente para almacenar grandes cantidades de datos. Para definirlos utilizamos `{key: value}`"
      ]
    },
    {
      "cell_type": "code",
      "execution_count": null,
      "id": "d020f2ec",
      "metadata": {
        "id": "d020f2ec"
      },
      "outputs": [],
      "source": [
        "dictt1 = {'num' : 'd01', 'nombre' : 'Pablo', 'edad': 26}\n",
        "\n",
        "dictt2 = {\n",
        "          'num' : ['d01','d02'],\n",
        "          'name' : ['Pablo', 'Karla'],\n",
        "          'batch' : [26,27]\n",
        "           }\n",
        "\n",
        "print(type(dictt1))\n",
        "print(dictt1)\n",
        "print(dictt2.keys())   ### Prints all the keys in a list\n",
        "print(dictt2.values()) ### Prints all the values"
      ]
    },
    {
      "cell_type": "markdown",
      "id": "9296fe53",
      "metadata": {
        "id": "9296fe53"
      },
      "source": [
        "##### Ejercicio 7.\n",
        "\n",
        "1. Haz una **lista** de tuplas, donde cada elemento de la tupla contenga la siguiente información:\n",
        "\n",
        "    - Ale, 20\n",
        "    - Pedro, 22\n",
        "    - Luis, 19\n",
        "    - Diana, 21\n",
        "    - Eva, 20\n",
        "    \n",
        "2. Muestra el solo el nombre del tercer estudiante de la lista.\n",
        "3. Muestra cuántos estudiantes son en la lista, el nombre y la edad del segundo (utiliza format).\n",
        "4. Agrega el estudiante Juan, 25\n",
        "5. Muestra el último estudiante de la lista.\n",
        "6. Muestra si el 4to estudiante tiene más de 22 años"
      ]
    },
    {
      "cell_type": "code",
      "execution_count": null,
      "id": "ad824504",
      "metadata": {
        "id": "ad824504"
      },
      "outputs": [],
      "source": [
        "# Respuesta"
      ]
    }
  ],
  "metadata": {
    "kernelspec": {
      "display_name": "Python 3 (ipykernel)",
      "language": "python",
      "name": "python3"
    },
    "language_info": {
      "codemirror_mode": {
        "name": "ipython",
        "version": 3
      },
      "file_extension": ".py",
      "mimetype": "text/x-python",
      "name": "python",
      "nbconvert_exporter": "python",
      "pygments_lexer": "ipython3",
      "version": "3.8.13"
    },
    "colab": {
      "provenance": []
    }
  },
  "nbformat": 4,
  "nbformat_minor": 5
}